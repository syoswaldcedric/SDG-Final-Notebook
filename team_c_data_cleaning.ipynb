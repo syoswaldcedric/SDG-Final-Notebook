{
 "cells": [
  {
   "cell_type": "markdown",
   "metadata": {},
   "source": [
    "# IMPORTS"
   ]
  },
  {
   "cell_type": "code",
   "execution_count": 1,
   "metadata": {},
   "outputs": [],
   "source": [
    "import pandas as pd\n",
    "import nltk\n",
    "from nltk.corpus import stopwords\n",
    "from nltk.tokenize import TweetTokenizer\n",
    "from nltk.corpus import stopwords, wordnet\n",
    "from nltk.stem import WordNetLemmatizer\n",
    "from nltk.stem import PorterStemmer\n",
    "from nltk.tokenize import word_tokenize"
   ]
  },
  {
   "cell_type": "markdown",
   "metadata": {},
   "source": [
    "# Part 1"
   ]
  },
  {
   "cell_type": "code",
   "execution_count": 2,
   "metadata": {},
   "outputs": [],
   "source": [
    "\n",
    "def clean_agreement(df):\n",
    "    '''\n",
    "    This function takes in a dataframe and filters out the rows with negative label higher than positive label\n",
    "    '''\n",
    "    rslt_df = df.loc[df['labels_negative'] < df['labels_positive']]\n",
    "    return rslt_df\n",
    "\n",
    "\n",
    "\n",
    "def set_agreement_threshold(df):\n",
    "    '''\n",
    "    This function takes in our cleaned dataframe\n",
    "    and filters the rows based on a threshold for the agreement score\n",
    "\n",
    "    We are using a threshold of 0.4\n",
    "    '''\n",
    "    result_df = df.loc[df['agreement'] >= 0.4]\n",
    "    return result_df\n",
    "\n",
    "def text_preprocessing(df):\n",
    "    \n",
    "    \"\"\"Converts apostrophe suffixes to words, replace webpage links with url, annotate hashtags and mentions, remove a selection of punctuation, and convert all words to lower case.\n",
    "    Args:\n",
    "        df (DataFrame): dataframe containing 'text' column to convert\n",
    "    Returns:\n",
    "        df (DataFrame): dataframe with converted 'text' column \n",
    "    \"\"\"\n",
    "    # Remove username\n",
    "    df['text'] = df['text'].str.replace('@[a-zA-Z0-9_]+','',regex =True)\n",
    "    # Remove Url\n",
    "    df['text'] = df['text'].str.replace('http[s]?://(?:[a-zA-Z]|[0-9]|[$-_@.&+]|[!*\\\\(\\\\),]|(?:%[0-9a-fA-F][0-9a-fA-F]))+','',regex =True)\n",
    "    # Remove special characters\n",
    "    df['text'] = df['text'].str.replace('[.%+*/0-9?&#]+','',regex = True)\n",
    "    # Remove words with 2 or fewer letters\n",
    "    df['text'] = df['text'].str.replace(r'\\b\\w{1,2}\\b', '', regex =True)\n",
    "    # Remove special characters\n",
    "    df['text'] = df['text'].str.replace('([-,]+)|((\\')+)|([;:()!@#=$]+)','',regex =True)\n",
    "    # convert strings into lower case\n",
    "    df['text'] = df['text'].apply(lambda x:\" \".join(x.lower() for x in x.split()))\n",
    "    # Removing stop words\n",
    "    df['text'] = df['text'].apply(lambda x: \" \".join(x for x in x.split() if x not in stopwords.words('english')))\n",
    "    return df"
   ]
  },
  {
   "cell_type": "code",
   "execution_count": 3,
   "metadata": {},
   "outputs": [],
   "source": [
    "df = pd.read_csv('train.csv')\n",
    "\n",
    "#This line of code removes the rows where the negative label was higher than the positive label\n",
    "df = clean_agreement(df)\n",
    "\n",
    "#This line of code removes rows where the agreement score is less than 0.4\n",
    "df = set_agreement_threshold(df)\n",
    "\n",
    "#This line of code carries out text preprocessing on the text data\n",
    "df = text_preprocessing(df)\n"
   ]
  },
  {
   "cell_type": "code",
   "execution_count": 4,
   "metadata": {},
   "outputs": [
    {
     "data": {
      "text/html": [
       "<div>\n",
       "<style scoped>\n",
       "    .dataframe tbody tr th:only-of-type {\n",
       "        vertical-align: middle;\n",
       "    }\n",
       "\n",
       "    .dataframe tbody tr th {\n",
       "        vertical-align: top;\n",
       "    }\n",
       "\n",
       "    .dataframe thead th {\n",
       "        text-align: right;\n",
       "    }\n",
       "</style>\n",
       "<table border=\"1\" class=\"dataframe\">\n",
       "  <thead>\n",
       "    <tr style=\"text-align: right;\">\n",
       "      <th></th>\n",
       "      <th>doi</th>\n",
       "      <th>text_id</th>\n",
       "      <th>text</th>\n",
       "      <th>sdg</th>\n",
       "      <th>labels_negative</th>\n",
       "      <th>labels_positive</th>\n",
       "      <th>agreement</th>\n",
       "      <th>id</th>\n",
       "    </tr>\n",
       "  </thead>\n",
       "  <tbody>\n",
       "    <tr>\n",
       "      <th>1</th>\n",
       "      <td>10.18356/5950d914-en</td>\n",
       "      <td>b6415a528064b85fdde4b4c61239ed3a</td>\n",
       "      <td>manufacturing value added percentage gdp stood...</td>\n",
       "      <td>9</td>\n",
       "      <td>0</td>\n",
       "      <td>3</td>\n",
       "      <td>1.000000</td>\n",
       "      <td>2</td>\n",
       "    </tr>\n",
       "    <tr>\n",
       "      <th>2</th>\n",
       "      <td>10.18356/31959a6d-en</td>\n",
       "      <td>29127def7e81b999b87c8e887a4fe882</td>\n",
       "      <td>share share question\" volume gender politics f...</td>\n",
       "      <td>5</td>\n",
       "      <td>2</td>\n",
       "      <td>7</td>\n",
       "      <td>0.555556</td>\n",
       "      <td>3</td>\n",
       "    </tr>\n",
       "    <tr>\n",
       "      <th>4</th>\n",
       "      <td>10.1787/9789264119536-11-en</td>\n",
       "      <td>8b7d8c6c605fe9695d08ab03d601e0e9</td>\n",
       "      <td>question considerable policy relevance extent ...</td>\n",
       "      <td>10</td>\n",
       "      <td>1</td>\n",
       "      <td>4</td>\n",
       "      <td>0.600000</td>\n",
       "      <td>5</td>\n",
       "    </tr>\n",
       "    <tr>\n",
       "      <th>7</th>\n",
       "      <td>10.6027/9789289350433-5-en</td>\n",
       "      <td>1cd35b929d9d744b60c2c2a7dc8575fe</td>\n",
       "      <td>capacity building text adaptation rather conce...</td>\n",
       "      <td>13</td>\n",
       "      <td>1</td>\n",
       "      <td>8</td>\n",
       "      <td>0.777778</td>\n",
       "      <td>8</td>\n",
       "    </tr>\n",
       "    <tr>\n",
       "      <th>8</th>\n",
       "      <td>10.1787/5jlwvz85537c-en</td>\n",
       "      <td>439857f2a5cb22fc9f73878bf6149316</td>\n",
       "      <td>one method induce sensation travelling high sp...</td>\n",
       "      <td>11</td>\n",
       "      <td>0</td>\n",
       "      <td>3</td>\n",
       "      <td>1.000000</td>\n",
       "      <td>9</td>\n",
       "    </tr>\n",
       "  </tbody>\n",
       "</table>\n",
       "</div>"
      ],
      "text/plain": [
       "                           doi                           text_id  \\\n",
       "1         10.18356/5950d914-en  b6415a528064b85fdde4b4c61239ed3a   \n",
       "2         10.18356/31959a6d-en  29127def7e81b999b87c8e887a4fe882   \n",
       "4  10.1787/9789264119536-11-en  8b7d8c6c605fe9695d08ab03d601e0e9   \n",
       "7   10.6027/9789289350433-5-en  1cd35b929d9d744b60c2c2a7dc8575fe   \n",
       "8      10.1787/5jlwvz85537c-en  439857f2a5cb22fc9f73878bf6149316   \n",
       "\n",
       "                                                text  sdg  labels_negative  \\\n",
       "1  manufacturing value added percentage gdp stood...    9                0   \n",
       "2  share share question\" volume gender politics f...    5                2   \n",
       "4  question considerable policy relevance extent ...   10                1   \n",
       "7  capacity building text adaptation rather conce...   13                1   \n",
       "8  one method induce sensation travelling high sp...   11                0   \n",
       "\n",
       "   labels_positive  agreement  id  \n",
       "1                3   1.000000   2  \n",
       "2                7   0.555556   3  \n",
       "4                4   0.600000   5  \n",
       "7                8   0.777778   8  \n",
       "8                3   1.000000   9  "
      ]
     },
     "execution_count": 4,
     "metadata": {},
     "output_type": "execute_result"
    }
   ],
   "source": [
    "df.head()"
   ]
  },
  {
   "cell_type": "markdown",
   "metadata": {},
   "source": [
    "# Part 2"
   ]
  },
  {
   "cell_type": "code",
   "execution_count": null,
   "metadata": {},
   "outputs": [],
   "source": []
  },
  {
   "cell_type": "markdown",
   "metadata": {},
   "source": [
    "# Part 3"
   ]
  },
  {
   "cell_type": "code",
   "execution_count": null,
   "metadata": {},
   "outputs": [],
   "source": []
  }
 ],
 "metadata": {
  "kernelspec": {
   "display_name": "Python 3.10.4 64-bit",
   "language": "python",
   "name": "python3"
  },
  "language_info": {
   "codemirror_mode": {
    "name": "ipython",
    "version": 3
   },
   "file_extension": ".py",
   "mimetype": "text/x-python",
   "name": "python",
   "nbconvert_exporter": "python",
   "pygments_lexer": "ipython3",
   "version": "3.10.4"
  },
  "vscode": {
   "interpreter": {
    "hash": "a42ccb73e7d9bfdf27e036f1d2b8b681e55fc0743cc5586bc2474d4a60f4b886"
   }
  }
 },
 "nbformat": 4,
 "nbformat_minor": 4
}
